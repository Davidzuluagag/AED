{
  "nbformat": 4,
  "nbformat_minor": 0,
  "metadata": {
    "colab": {
      "name": "Untitled5.ipynb",
      "provenance": [],
      "collapsed_sections": [],
      "authorship_tag": "ABX9TyMb2uItv1XpY5yDRKz82V6c",
      "include_colab_link": true
    },
    "kernelspec": {
      "name": "python3",
      "display_name": "Python 3"
    }
  },
  "cells": [
    {
      "cell_type": "markdown",
      "metadata": {
        "id": "view-in-github",
        "colab_type": "text"
      },
      "source": [
        "<a href=\"https://colab.research.google.com/github/Davidzuluagag/AED/blob/master/Untitled5.ipynb\" target=\"_parent\"><img src=\"https://colab.research.google.com/assets/colab-badge.svg\" alt=\"Open In Colab\"/></a>"
      ]
    },
    {
      "cell_type": "code",
      "metadata": {
        "id": "kZYpMMSwu5vK",
        "colab_type": "code",
        "colab": {
          "base_uri": "https://localhost:8080/",
          "height": 34
        },
        "outputId": "e7a89360-77d9-4399-b236-3b847445fb0a"
      },
      "source": [
        "import requests\n",
        "url = 'https://listado.mercadolibre.com.co/camaras-instantanea#D[A:camaras%20instantanea]'\n",
        "response = requests.get (url)\n",
        "print (response)"
      ],
      "execution_count": 149,
      "outputs": [
        {
          "output_type": "stream",
          "text": [
            "<Response [200]>\n"
          ],
          "name": "stdout"
        }
      ]
    },
    {
      "cell_type": "code",
      "metadata": {
        "id": "SoFojZX1vQIG",
        "colab_type": "code",
        "colab": {
          "base_uri": "https://localhost:8080/",
          "height": 71
        },
        "outputId": "664b8ba5-9005-4454-b334-433ee1634ac9"
      },
      "source": [
        "import bs4\n",
        "completo = bs4.BeautifulSoup (response.text, 'html.parser')\n",
        "Get_Data_Select = lambda clase : completo.select(clase)\n",
        "titulo = completo.select ('.ui-search-item__title')\n",
        "precio = Get_Data_Select('.price-tag-fraction')\n",
        "print (titulo)\n",
        "print (precio)"
      ],
      "execution_count": 150,
      "outputs": [
        {
          "output_type": "stream",
          "text": [
            "[<h2 class=\"ui-search-item__title\">Cámara Fuji Instax Mini Instantánea Fujifilm Original</h2>, <h2 class=\"ui-search-item__title\">Cámara Instantánea Fujifilm Instax Mini 9+ 20 Láminas</h2>, <h2 class=\"ui-search-item__title\">Cámara Instantánea Fujifilm Instax Mini 9</h2>, <h2 class=\"ui-search-item__title\">Cámara Fuji Instax Mini Instantánea Fujifilm</h2>, <h2 class=\"ui-search-item__title\">Cámara Instantánea Fujifilm Instax Mini 9</h2>, <h2 class=\"ui-search-item__title\">Cámara Fuji Instax Mini 9 Fujifilm Colores + 20 Fotos</h2>, <h2 class=\"ui-search-item__title\">Camara Impresion Fotos Instantanea Fujifilm Mini 9 Original</h2>, <h2 class=\"ui-search-item__title\">Fujifilm Instax Mini 11 Nuevas Entrega Inmediata</h2>, <h2 class=\"ui-search-item__title\">Set 20 Películas + Cámara Instantánea Fujifilm Instax Mini 9</h2>, <h2 class=\"ui-search-item__title\">Camara Fuji Intax Mini 9 Kit Nueva </h2>, <h2 class=\"ui-search-item__title\">Polaroid 2x3 Zink. 50 Hojas. Entrega Inmediata.</h2>, <h2 class=\"ui-search-item__title\">Combo Cámara Instantánea Instax Mini 9 Con 20 Películas Foto</h2>, <h2 class=\"ui-search-item__title\">Camara Polaroid One Step Closeup</h2>, <h2 class=\"ui-search-item__title\">Fujifilm Instax Mini 11 + Caja 60 Fotos Entrega Inmediata</h2>, <h2 class=\"ui-search-item__title\">I-1 Impossible Cámara Instantánea Polaroid </h2>, <h2 class=\"ui-search-item__title\">Kit 20 Películas + Cámara Instantánea Fujifilm Instax Mini 9</h2>, <h2 class=\"ui-search-item__title\">Camara Instantanea Fujifilm Instax Mini8 + Estuche, Poco Uso</h2>, <h2 class=\"ui-search-item__title\">20 Películas + Cámara Instantánea Fujifilm Instax Mini 9</h2>, <h2 class=\"ui-search-item__title\">Estuche Rígido Cámara Instantánea Fujifilm Instax Square Sq6</h2>, <h2 class=\"ui-search-item__title\">Cámara Instantánea Polaroid Izone </h2>, <h2 class=\"ui-search-item__title\">Camaras Instantanea Fotografica Fujifilm Instax Mini 9</h2>, <h2 class=\"ui-search-item__title\">Cámara Instantánea Fujifilm Instax 200</h2>, <h2 class=\"ui-search-item__title\">Cámara Instantánea LG Pocket Pc389 Rosa Nuevo Original 100%</h2>, <h2 class=\"ui-search-item__title\">Camara Fujifim Instax Mini 70</h2>, <h2 class=\"ui-search-item__title\">Cámara Instantanea Lomo'instant Automat Cabo Verde</h2>, <h2 class=\"ui-search-item__title\">Cámara Instantánea Fujifilm Instax Mini 9 Azul Cielo</h2>, <h2 class=\"ui-search-item__title\">Cámara Instantánea Polaroid Onestep Express</h2>, <h2 class=\"ui-search-item__title\">Kit  Cámara Instax Mini 9 Amarillo Clear</h2>, <h2 class=\"ui-search-item__title\">Camara Instantánea Fujifilm Instax Mini 50s</h2>, <h2 class=\"ui-search-item__title\">Cámara Instax Mini 9 Edición Frozen Ii</h2>, <h2 class=\"ui-search-item__title\">Cámara Instantánea Fujifilm Instax Mini 9 Rosada Flamingo</h2>, <h2 class=\"ui-search-item__title\">Cámara Instax Square Sq6 Aqua Blue</h2>, <h2 class=\"ui-search-item__title\">Papel Polaroid Zink Pop (40 Hojas)</h2>, <h2 class=\"ui-search-item__title\">Camara Instantánea Instax Mini 9 Amarilla Fujifilm</h2>, <h2 class=\"ui-search-item__title\">Camara Instantánea Polaroid </h2>, <h2 class=\"ui-search-item__title\">Camara Fujifilm Instax Mini 9</h2>, <h2 class=\"ui-search-item__title\">Cámara Instantánea Fujifilm Instax Mini 9</h2>, <h2 class=\"ui-search-item__title\">Cámara Instantánea Kodak Ek6</h2>, <h2 class=\"ui-search-item__title\">Cámara Instantánea Polaroid Joycam</h2>, <h2 class=\"ui-search-item__title\">Cámara Instantánea Fujifilm Instax Mini 9 Blanco</h2>, <h2 class=\"ui-search-item__title\">Camara Impresion Fotos Instantanea Fujifilm Mini 9 Original</h2>, <h2 class=\"ui-search-item__title\">Camara  Mini Instantanea</h2>, <h2 class=\"ui-search-item__title\">Cámara Instantánea Kodak Pleaser, No Funciona</h2>, <h2 class=\"ui-search-item__title\">Cámara Instantánea Polaroid Joycam</h2>, <h2 class=\"ui-search-item__title\">Cámara 100% Original Instax Mini 8 (descontinuada) </h2>, <h2 class=\"ui-search-item__title\">Camara Fujifilm</h2>, <h2 class=\"ui-search-item__title\">Cámara Instantánea Polaroid One 600</h2>, <h2 class=\"ui-search-item__title\">Excelente Cámara Fotográfica </h2>, <h2 class=\"ui-search-item__title\">Cámara Instantánea Polaroid 600</h2>, <h2 class=\"ui-search-item__title\">Cámara Instantánea Fujifilm Instax Mini 9 Verde</h2>]\n",
            "[<span class=\"price-tag-fraction\">324.900</span>, <span class=\"price-tag-fraction\">9.025</span>, <span class=\"price-tag-fraction\">349.900</span>, <span class=\"price-tag-fraction\">9.719</span>, <span class=\"price-tag-fraction\">259.000</span>, <span class=\"price-tag-fraction\">7.194</span>, <span class=\"price-tag-fraction\">319.000</span>, <span class=\"price-tag-fraction\">8.861</span>, <span class=\"price-tag-fraction\">269.000</span>, <span class=\"price-tag-fraction\">7.472</span>, <span class=\"price-tag-fraction\">395.000</span>, <span class=\"price-tag-fraction\">10.972</span>, <span class=\"price-tag-fraction\">415.900</span>, <span class=\"price-tag-fraction\">34.658</span>, <span class=\"price-tag-fraction\">297.000</span>, <span class=\"price-tag-fraction\">8.250</span>, <span class=\"price-tag-fraction\">413.885</span>, <span class=\"price-tag-fraction\">11.497</span>, <span class=\"price-tag-fraction\">489.000</span>, <span class=\"price-tag-fraction\">40.750</span>, <span class=\"price-tag-fraction\">160.000</span>, <span class=\"price-tag-fraction\">13.333</span>, <span class=\"price-tag-fraction\">413.885</span>, <span class=\"price-tag-fraction\">11.497</span>, <span class=\"price-tag-fraction\">150.000</span>, <span class=\"price-tag-fraction\">4.167</span>, <span class=\"price-tag-fraction\">469.900</span>, <span class=\"price-tag-fraction\">13.053</span>, <span class=\"price-tag-fraction\">400.000</span>, <span class=\"price-tag-fraction\">11.111</span>, <span class=\"price-tag-fraction\">413.885</span>, <span class=\"price-tag-fraction\">11.497</span>, <span class=\"price-tag-fraction\">325.000</span>, <span class=\"price-tag-fraction\">9.028</span>, <span class=\"price-tag-fraction\">413.885</span>, <span class=\"price-tag-fraction\">11.497</span>, <span class=\"price-tag-fraction\">138.900</span>, <span class=\"price-tag-fraction\">3.858</span>, <span class=\"price-tag-fraction\">30.000</span>, <span class=\"price-tag-fraction\">2.500</span>, <span class=\"price-tag-fraction\">299.900</span>, <span class=\"price-tag-fraction\">24.992</span>, <span class=\"price-tag-fraction\">95.000</span>, <span class=\"price-tag-fraction\">2.639</span>, <span class=\"price-tag-fraction\">650.000</span>, <span class=\"price-tag-fraction\">54.167</span>, <span class=\"price-tag-fraction\">319.200</span>, <span class=\"price-tag-fraction\">8.867</span>, <span class=\"price-tag-fraction\">590.000</span>, <span class=\"price-tag-fraction\">49.167</span>, <span class=\"price-tag-fraction\">344.885</span>, <span class=\"price-tag-fraction\">9.580</span>, <span class=\"price-tag-fraction\">90.000</span>, <span class=\"price-tag-fraction\">2.500</span>, <span class=\"price-tag-fraction\">339.999</span>, <span class=\"price-tag-fraction\">9.444</span>, <span class=\"price-tag-fraction\">350.000</span>, <span class=\"price-tag-fraction\">9.722</span>, <span class=\"price-tag-fraction\">299.999</span>, <span class=\"price-tag-fraction\">8.333</span>, <span class=\"price-tag-fraction\">344.885</span>, <span class=\"price-tag-fraction\">9.580</span>, <span class=\"price-tag-fraction\">499.000</span>, <span class=\"price-tag-fraction\">13.861</span>, <span class=\"price-tag-fraction\">130.000</span>, <span class=\"price-tag-fraction\">3.611</span>, <span class=\"price-tag-fraction\">353.800</span>, <span class=\"price-tag-fraction\">9.828</span>, <span class=\"price-tag-fraction\">120.000</span>, <span class=\"price-tag-fraction\">3.333</span>, <span class=\"price-tag-fraction\">300.000</span>, <span class=\"price-tag-fraction\">25.000</span>, <span class=\"price-tag-fraction\">250.000</span>, <span class=\"price-tag-fraction\">6.944</span>, <span class=\"price-tag-fraction\">140.000</span>, <span class=\"price-tag-fraction\">3.889</span>, <span class=\"price-tag-fraction\">70.000</span>, <span class=\"price-tag-fraction\">1.944</span>, <span class=\"price-tag-fraction\">344.885</span>, <span class=\"price-tag-fraction\">9.580</span>, <span class=\"price-tag-fraction\">416.700</span>, <span class=\"price-tag-fraction\">34.725</span>, <span class=\"price-tag-fraction\">200.000</span>, <span class=\"price-tag-fraction\">16.667</span>, <span class=\"price-tag-fraction\">100.000</span>, <span class=\"price-tag-fraction\">2.778</span>, <span class=\"price-tag-fraction\">80.000</span>, <span class=\"price-tag-fraction\">2.222</span>, <span class=\"price-tag-fraction\">230.000</span>, <span class=\"price-tag-fraction\">6.389</span>, <span class=\"price-tag-fraction\">250.000</span>, <span class=\"price-tag-fraction\">6.944</span>, <span class=\"price-tag-fraction\">80.000</span>, <span class=\"price-tag-fraction\">2.222</span>, <span class=\"price-tag-fraction\">82.999</span>, <span class=\"price-tag-fraction\">6.917</span>, <span class=\"price-tag-fraction\">95.000</span>, <span class=\"price-tag-fraction\">2.639</span>, <span class=\"price-tag-fraction\">344.885</span>, <span class=\"price-tag-fraction\">9.580</span>]\n"
          ],
          "name": "stdout"
        }
      ]
    },
    {
      "cell_type": "code",
      "metadata": {
        "id": "EOv8fdCN2e1Z",
        "colab_type": "code",
        "colab": {
          "base_uri": "https://localhost:8080/",
          "height": 88
        },
        "outputId": "7754a0fa-b7c0-48db-a3ef-f1cbf9640954"
      },
      "source": [
        "nombre_camara = []\n",
        "nombre_camaras = []\n",
        "extraer_texto = lambda elemento : elemento.text\n",
        "lista_datos = lambda funcion, data :  list (map (funcion,data))\n",
        "nombre_camaras = lista_datos(extraer_texto, titulo)\n",
        "for elemento in titulo :\n",
        "  nombre_camara.append (elemento.text)\n",
        "\n",
        "print (nombre_camaras)\n",
        "print (nombre_camaras)\n",
        "lista_precios = lista_datos(extraer_texto, precio)\n",
        "print (lista_precios)"
      ],
      "execution_count": 151,
      "outputs": [
        {
          "output_type": "stream",
          "text": [
            "['Cámara Fuji Instax Mini Instantánea Fujifilm Original', 'Cámara Instantánea Fujifilm Instax Mini 9+ 20 Láminas', 'Cámara Instantánea Fujifilm Instax Mini 9', 'Cámara Fuji Instax Mini Instantánea Fujifilm', 'Cámara Instantánea Fujifilm Instax Mini 9', 'Cámara Fuji Instax Mini 9 Fujifilm Colores + 20 Fotos', 'Camara Impresion Fotos Instantanea Fujifilm Mini 9 Original', 'Fujifilm Instax Mini 11 Nuevas Entrega Inmediata', 'Set 20 Películas + Cámara Instantánea Fujifilm Instax Mini 9', 'Camara Fuji Intax Mini 9 Kit Nueva ', 'Polaroid 2x3 Zink. 50 Hojas. Entrega Inmediata.', 'Combo Cámara Instantánea Instax Mini 9 Con 20 Películas Foto', 'Camara Polaroid One Step Closeup', 'Fujifilm Instax Mini 11 + Caja 60 Fotos Entrega Inmediata', 'I-1 Impossible Cámara Instantánea Polaroid ', 'Kit 20 Películas + Cámara Instantánea Fujifilm Instax Mini 9', 'Camara Instantanea Fujifilm Instax Mini8 + Estuche, Poco Uso', '20 Películas + Cámara Instantánea Fujifilm Instax Mini 9', 'Estuche Rígido Cámara Instantánea Fujifilm Instax Square Sq6', 'Cámara Instantánea Polaroid Izone ', 'Camaras Instantanea Fotografica Fujifilm Instax Mini 9', 'Cámara Instantánea Fujifilm Instax 200', 'Cámara Instantánea LG Pocket Pc389 Rosa Nuevo Original 100%', 'Camara Fujifim Instax Mini 70', \"Cámara Instantanea Lomo'instant Automat Cabo Verde\", 'Cámara Instantánea Fujifilm Instax Mini 9 Azul Cielo', 'Cámara Instantánea Polaroid Onestep Express', 'Kit  Cámara Instax Mini 9 Amarillo Clear', 'Camara Instantánea Fujifilm Instax Mini 50s', 'Cámara Instax Mini 9 Edición Frozen Ii', 'Cámara Instantánea Fujifilm Instax Mini 9 Rosada Flamingo', 'Cámara Instax Square Sq6 Aqua Blue', 'Papel Polaroid Zink Pop (40 Hojas)', 'Camara Instantánea Instax Mini 9 Amarilla Fujifilm', 'Camara Instantánea Polaroid ', 'Camara Fujifilm Instax Mini 9', 'Cámara Instantánea Fujifilm Instax Mini 9', 'Cámara Instantánea Kodak Ek6', 'Cámara Instantánea Polaroid Joycam', 'Cámara Instantánea Fujifilm Instax Mini 9 Blanco', 'Camara Impresion Fotos Instantanea Fujifilm Mini 9 Original', 'Camara  Mini Instantanea', 'Cámara Instantánea Kodak Pleaser, No Funciona', 'Cámara Instantánea Polaroid Joycam', 'Cámara 100% Original Instax Mini 8 (descontinuada) ', 'Camara Fujifilm', 'Cámara Instantánea Polaroid One 600', 'Excelente Cámara Fotográfica ', 'Cámara Instantánea Polaroid 600', 'Cámara Instantánea Fujifilm Instax Mini 9 Verde']\n",
            "['Cámara Fuji Instax Mini Instantánea Fujifilm Original', 'Cámara Instantánea Fujifilm Instax Mini 9+ 20 Láminas', 'Cámara Instantánea Fujifilm Instax Mini 9', 'Cámara Fuji Instax Mini Instantánea Fujifilm', 'Cámara Instantánea Fujifilm Instax Mini 9', 'Cámara Fuji Instax Mini 9 Fujifilm Colores + 20 Fotos', 'Camara Impresion Fotos Instantanea Fujifilm Mini 9 Original', 'Fujifilm Instax Mini 11 Nuevas Entrega Inmediata', 'Set 20 Películas + Cámara Instantánea Fujifilm Instax Mini 9', 'Camara Fuji Intax Mini 9 Kit Nueva ', 'Polaroid 2x3 Zink. 50 Hojas. Entrega Inmediata.', 'Combo Cámara Instantánea Instax Mini 9 Con 20 Películas Foto', 'Camara Polaroid One Step Closeup', 'Fujifilm Instax Mini 11 + Caja 60 Fotos Entrega Inmediata', 'I-1 Impossible Cámara Instantánea Polaroid ', 'Kit 20 Películas + Cámara Instantánea Fujifilm Instax Mini 9', 'Camara Instantanea Fujifilm Instax Mini8 + Estuche, Poco Uso', '20 Películas + Cámara Instantánea Fujifilm Instax Mini 9', 'Estuche Rígido Cámara Instantánea Fujifilm Instax Square Sq6', 'Cámara Instantánea Polaroid Izone ', 'Camaras Instantanea Fotografica Fujifilm Instax Mini 9', 'Cámara Instantánea Fujifilm Instax 200', 'Cámara Instantánea LG Pocket Pc389 Rosa Nuevo Original 100%', 'Camara Fujifim Instax Mini 70', \"Cámara Instantanea Lomo'instant Automat Cabo Verde\", 'Cámara Instantánea Fujifilm Instax Mini 9 Azul Cielo', 'Cámara Instantánea Polaroid Onestep Express', 'Kit  Cámara Instax Mini 9 Amarillo Clear', 'Camara Instantánea Fujifilm Instax Mini 50s', 'Cámara Instax Mini 9 Edición Frozen Ii', 'Cámara Instantánea Fujifilm Instax Mini 9 Rosada Flamingo', 'Cámara Instax Square Sq6 Aqua Blue', 'Papel Polaroid Zink Pop (40 Hojas)', 'Camara Instantánea Instax Mini 9 Amarilla Fujifilm', 'Camara Instantánea Polaroid ', 'Camara Fujifilm Instax Mini 9', 'Cámara Instantánea Fujifilm Instax Mini 9', 'Cámara Instantánea Kodak Ek6', 'Cámara Instantánea Polaroid Joycam', 'Cámara Instantánea Fujifilm Instax Mini 9 Blanco', 'Camara Impresion Fotos Instantanea Fujifilm Mini 9 Original', 'Camara  Mini Instantanea', 'Cámara Instantánea Kodak Pleaser, No Funciona', 'Cámara Instantánea Polaroid Joycam', 'Cámara 100% Original Instax Mini 8 (descontinuada) ', 'Camara Fujifilm', 'Cámara Instantánea Polaroid One 600', 'Excelente Cámara Fotográfica ', 'Cámara Instantánea Polaroid 600', 'Cámara Instantánea Fujifilm Instax Mini 9 Verde']\n",
            "['324.900', '9.025', '349.900', '9.719', '259.000', '7.194', '319.000', '8.861', '269.000', '7.472', '395.000', '10.972', '415.900', '34.658', '297.000', '8.250', '413.885', '11.497', '489.000', '40.750', '160.000', '13.333', '413.885', '11.497', '150.000', '4.167', '469.900', '13.053', '400.000', '11.111', '413.885', '11.497', '325.000', '9.028', '413.885', '11.497', '138.900', '3.858', '30.000', '2.500', '299.900', '24.992', '95.000', '2.639', '650.000', '54.167', '319.200', '8.867', '590.000', '49.167', '344.885', '9.580', '90.000', '2.500', '339.999', '9.444', '350.000', '9.722', '299.999', '8.333', '344.885', '9.580', '499.000', '13.861', '130.000', '3.611', '353.800', '9.828', '120.000', '3.333', '300.000', '25.000', '250.000', '6.944', '140.000', '3.889', '70.000', '1.944', '344.885', '9.580', '416.700', '34.725', '200.000', '16.667', '100.000', '2.778', '80.000', '2.222', '230.000', '6.389', '250.000', '6.944', '80.000', '2.222', '82.999', '6.917', '95.000', '2.639', '344.885', '9.580']\n"
          ],
          "name": "stdout"
        }
      ]
    },
    {
      "cell_type": "code",
      "metadata": {
        "id": "I-howu8Hv1US",
        "colab_type": "code",
        "colab": {
          "base_uri": "https://localhost:8080/",
          "height": 68
        },
        "outputId": "a18e8cae-602b-405b-c3cb-dd7e0ca82e93"
      },
      "source": [
        "print (len(nombre_camaras))\n",
        "print (len(lista_precios))\n",
        "lista_precios = lista_precios[:50]\n",
        "print (len(lista_precios))"
      ],
      "execution_count": 159,
      "outputs": [
        {
          "output_type": "stream",
          "text": [
            "50\n",
            "50\n",
            "50\n"
          ],
          "name": "stdout"
        }
      ]
    },
    {
      "cell_type": "code",
      "metadata": {
        "id": "-nHDlFURv18O",
        "colab_type": "code",
        "colab": {
          "base_uri": "https://localhost:8080/",
          "height": 34
        },
        "outputId": "d2238841-5a16-465c-f9f0-622980f3bfcd"
      },
      "source": [
        "import pandas as pd\n",
        "dic_camara = {}\n",
        "dic_camara ['titulo'] = nombre_camara\n",
        "print (len (nombre_camaras), len (lista_precios))\n",
        "dic_camara ['precio'] = lista_precios\n",
        "camara_data_frame = pd.DataFrame(dic_camara)\n",
        "camara_data_frame.to_csv('Camaras.csv', index=False)"
      ],
      "execution_count": 160,
      "outputs": [
        {
          "output_type": "stream",
          "text": [
            "50 50\n"
          ],
          "name": "stdout"
        }
      ]
    },
    {
      "cell_type": "code",
      "metadata": {
        "id": "8ZRH_Jhfv7BO",
        "colab_type": "code",
        "colab": {
          "base_uri": "https://localhost:8080/",
          "height": 71
        },
        "outputId": "98a24457-5876-4d2e-f8e9-7c9a222f7310"
      },
      "source": [
        "agregar_nombre = lambda elemento : 'Camara :' + elemento\n",
        "titulos = list (map(agregar_nombre,nombre_camaras))\n",
        "print (titulos)\n",
        "titulos_c = lista_datos (agregar_nombre, nombre_camaras)\n",
        "print (nombre_camaras)\n",
        "dic_camara = {}\n",
        "dic_camara ['Titulos'] = titulos_c\n",
        "dic_camara ['Precios'] = lista_precios\n",
        "camaras_data_frame = pd.DataFrame(dic_camara)\n",
        "camaras_data_frame.to_csv('Camaras+agregar.csv', index= False)"
      ],
      "execution_count": 161,
      "outputs": [
        {
          "output_type": "stream",
          "text": [
            "['Camara :Cámara Fuji Instax Mini Instantánea Fujifilm Original', 'Camara :Cámara Instantánea Fujifilm Instax Mini 9+ 20 Láminas', 'Camara :Cámara Instantánea Fujifilm Instax Mini 9', 'Camara :Cámara Fuji Instax Mini Instantánea Fujifilm', 'Camara :Cámara Instantánea Fujifilm Instax Mini 9', 'Camara :Cámara Fuji Instax Mini 9 Fujifilm Colores + 20 Fotos', 'Camara :Camara Impresion Fotos Instantanea Fujifilm Mini 9 Original', 'Camara :Fujifilm Instax Mini 11 Nuevas Entrega Inmediata', 'Camara :Set 20 Películas + Cámara Instantánea Fujifilm Instax Mini 9', 'Camara :Camara Fuji Intax Mini 9 Kit Nueva ', 'Camara :Polaroid 2x3 Zink. 50 Hojas. Entrega Inmediata.', 'Camara :Combo Cámara Instantánea Instax Mini 9 Con 20 Películas Foto', 'Camara :Camara Polaroid One Step Closeup', 'Camara :Fujifilm Instax Mini 11 + Caja 60 Fotos Entrega Inmediata', 'Camara :I-1 Impossible Cámara Instantánea Polaroid ', 'Camara :Kit 20 Películas + Cámara Instantánea Fujifilm Instax Mini 9', 'Camara :Camara Instantanea Fujifilm Instax Mini8 + Estuche, Poco Uso', 'Camara :20 Películas + Cámara Instantánea Fujifilm Instax Mini 9', 'Camara :Estuche Rígido Cámara Instantánea Fujifilm Instax Square Sq6', 'Camara :Cámara Instantánea Polaroid Izone ', 'Camara :Camaras Instantanea Fotografica Fujifilm Instax Mini 9', 'Camara :Cámara Instantánea Fujifilm Instax 200', 'Camara :Cámara Instantánea LG Pocket Pc389 Rosa Nuevo Original 100%', 'Camara :Camara Fujifim Instax Mini 70', \"Camara :Cámara Instantanea Lomo'instant Automat Cabo Verde\", 'Camara :Cámara Instantánea Fujifilm Instax Mini 9 Azul Cielo', 'Camara :Cámara Instantánea Polaroid Onestep Express', 'Camara :Kit  Cámara Instax Mini 9 Amarillo Clear', 'Camara :Camara Instantánea Fujifilm Instax Mini 50s', 'Camara :Cámara Instax Mini 9 Edición Frozen Ii', 'Camara :Cámara Instantánea Fujifilm Instax Mini 9 Rosada Flamingo', 'Camara :Cámara Instax Square Sq6 Aqua Blue', 'Camara :Papel Polaroid Zink Pop (40 Hojas)', 'Camara :Camara Instantánea Instax Mini 9 Amarilla Fujifilm', 'Camara :Camara Instantánea Polaroid ', 'Camara :Camara Fujifilm Instax Mini 9', 'Camara :Cámara Instantánea Fujifilm Instax Mini 9', 'Camara :Cámara Instantánea Kodak Ek6', 'Camara :Cámara Instantánea Polaroid Joycam', 'Camara :Cámara Instantánea Fujifilm Instax Mini 9 Blanco', 'Camara :Camara Impresion Fotos Instantanea Fujifilm Mini 9 Original', 'Camara :Camara  Mini Instantanea', 'Camara :Cámara Instantánea Kodak Pleaser, No Funciona', 'Camara :Cámara Instantánea Polaroid Joycam', 'Camara :Cámara 100% Original Instax Mini 8 (descontinuada) ', 'Camara :Camara Fujifilm', 'Camara :Cámara Instantánea Polaroid One 600', 'Camara :Excelente Cámara Fotográfica ', 'Camara :Cámara Instantánea Polaroid 600', 'Camara :Cámara Instantánea Fujifilm Instax Mini 9 Verde']\n",
            "['Cámara Fuji Instax Mini Instantánea Fujifilm Original', 'Cámara Instantánea Fujifilm Instax Mini 9+ 20 Láminas', 'Cámara Instantánea Fujifilm Instax Mini 9', 'Cámara Fuji Instax Mini Instantánea Fujifilm', 'Cámara Instantánea Fujifilm Instax Mini 9', 'Cámara Fuji Instax Mini 9 Fujifilm Colores + 20 Fotos', 'Camara Impresion Fotos Instantanea Fujifilm Mini 9 Original', 'Fujifilm Instax Mini 11 Nuevas Entrega Inmediata', 'Set 20 Películas + Cámara Instantánea Fujifilm Instax Mini 9', 'Camara Fuji Intax Mini 9 Kit Nueva ', 'Polaroid 2x3 Zink. 50 Hojas. Entrega Inmediata.', 'Combo Cámara Instantánea Instax Mini 9 Con 20 Películas Foto', 'Camara Polaroid One Step Closeup', 'Fujifilm Instax Mini 11 + Caja 60 Fotos Entrega Inmediata', 'I-1 Impossible Cámara Instantánea Polaroid ', 'Kit 20 Películas + Cámara Instantánea Fujifilm Instax Mini 9', 'Camara Instantanea Fujifilm Instax Mini8 + Estuche, Poco Uso', '20 Películas + Cámara Instantánea Fujifilm Instax Mini 9', 'Estuche Rígido Cámara Instantánea Fujifilm Instax Square Sq6', 'Cámara Instantánea Polaroid Izone ', 'Camaras Instantanea Fotografica Fujifilm Instax Mini 9', 'Cámara Instantánea Fujifilm Instax 200', 'Cámara Instantánea LG Pocket Pc389 Rosa Nuevo Original 100%', 'Camara Fujifim Instax Mini 70', \"Cámara Instantanea Lomo'instant Automat Cabo Verde\", 'Cámara Instantánea Fujifilm Instax Mini 9 Azul Cielo', 'Cámara Instantánea Polaroid Onestep Express', 'Kit  Cámara Instax Mini 9 Amarillo Clear', 'Camara Instantánea Fujifilm Instax Mini 50s', 'Cámara Instax Mini 9 Edición Frozen Ii', 'Cámara Instantánea Fujifilm Instax Mini 9 Rosada Flamingo', 'Cámara Instax Square Sq6 Aqua Blue', 'Papel Polaroid Zink Pop (40 Hojas)', 'Camara Instantánea Instax Mini 9 Amarilla Fujifilm', 'Camara Instantánea Polaroid ', 'Camara Fujifilm Instax Mini 9', 'Cámara Instantánea Fujifilm Instax Mini 9', 'Cámara Instantánea Kodak Ek6', 'Cámara Instantánea Polaroid Joycam', 'Cámara Instantánea Fujifilm Instax Mini 9 Blanco', 'Camara Impresion Fotos Instantanea Fujifilm Mini 9 Original', 'Camara  Mini Instantanea', 'Cámara Instantánea Kodak Pleaser, No Funciona', 'Cámara Instantánea Polaroid Joycam', 'Cámara 100% Original Instax Mini 8 (descontinuada) ', 'Camara Fujifilm', 'Cámara Instantánea Polaroid One 600', 'Excelente Cámara Fotográfica ', 'Cámara Instantánea Polaroid 600', 'Cámara Instantánea Fujifilm Instax Mini 9 Verde']\n"
          ],
          "name": "stdout"
        }
      ]
    },
    {
      "cell_type": "code",
      "metadata": {
        "id": "Oto7Ds7Gv-Yn",
        "colab_type": "code",
        "colab": {
          "base_uri": "https://localhost:8080/",
          "height": 54
        },
        "outputId": "e648eb2a-c03a-4d93-884d-65d4167eada8"
      },
      "source": [
        "fujifilm = lambda elemento : 'Fujifilm' in elemento \n",
        "\n",
        "lista_fuji = list (filter(fujifilm, titulos))\n",
        "print (lista_fuji)\n",
        "\n",
        "fuji_serie = pd.Series(lista_fuji)\n",
        "fuji_serie.to_csv('Camaras fuji.csv',  index_label='Fuji')"
      ],
      "execution_count": 162,
      "outputs": [
        {
          "output_type": "stream",
          "text": [
            "['Camara :Cámara Fuji Instax Mini Instantánea Fujifilm Original', 'Camara :Cámara Instantánea Fujifilm Instax Mini 9+ 20 Láminas', 'Camara :Cámara Instantánea Fujifilm Instax Mini 9', 'Camara :Cámara Fuji Instax Mini Instantánea Fujifilm', 'Camara :Cámara Instantánea Fujifilm Instax Mini 9', 'Camara :Cámara Fuji Instax Mini 9 Fujifilm Colores + 20 Fotos', 'Camara :Camara Impresion Fotos Instantanea Fujifilm Mini 9 Original', 'Camara :Fujifilm Instax Mini 11 Nuevas Entrega Inmediata', 'Camara :Set 20 Películas + Cámara Instantánea Fujifilm Instax Mini 9', 'Camara :Fujifilm Instax Mini 11 + Caja 60 Fotos Entrega Inmediata', 'Camara :Kit 20 Películas + Cámara Instantánea Fujifilm Instax Mini 9', 'Camara :Camara Instantanea Fujifilm Instax Mini8 + Estuche, Poco Uso', 'Camara :20 Películas + Cámara Instantánea Fujifilm Instax Mini 9', 'Camara :Estuche Rígido Cámara Instantánea Fujifilm Instax Square Sq6', 'Camara :Camaras Instantanea Fotografica Fujifilm Instax Mini 9', 'Camara :Cámara Instantánea Fujifilm Instax 200', 'Camara :Cámara Instantánea Fujifilm Instax Mini 9 Azul Cielo', 'Camara :Camara Instantánea Fujifilm Instax Mini 50s', 'Camara :Cámara Instantánea Fujifilm Instax Mini 9 Rosada Flamingo', 'Camara :Camara Instantánea Instax Mini 9 Amarilla Fujifilm', 'Camara :Camara Fujifilm Instax Mini 9', 'Camara :Cámara Instantánea Fujifilm Instax Mini 9', 'Camara :Cámara Instantánea Fujifilm Instax Mini 9 Blanco', 'Camara :Camara Impresion Fotos Instantanea Fujifilm Mini 9 Original', 'Camara :Camara Fujifilm', 'Camara :Cámara Instantánea Fujifilm Instax Mini 9 Verde']\n"
          ],
          "name": "stdout"
        }
      ]
    },
    {
      "cell_type": "code",
      "metadata": {
        "id": "gskzqkVpClch",
        "colab_type": "code",
        "colab": {
          "base_uri": "https://localhost:8080/",
          "height": 54
        },
        "outputId": "c8e921ad-495f-41bb-e5de-18737a401921"
      },
      "source": [
        "titulos_menores = lambda elemento : len (elemento) < 80\n",
        "lista_menores = list (filter (titulos_menores, titulos))\n",
        "print (lista_menores)"
      ],
      "execution_count": 163,
      "outputs": [
        {
          "output_type": "stream",
          "text": [
            "['Camara :Cámara Fuji Instax Mini Instantánea Fujifilm Original', 'Camara :Cámara Instantánea Fujifilm Instax Mini 9+ 20 Láminas', 'Camara :Cámara Instantánea Fujifilm Instax Mini 9', 'Camara :Cámara Fuji Instax Mini Instantánea Fujifilm', 'Camara :Cámara Instantánea Fujifilm Instax Mini 9', 'Camara :Cámara Fuji Instax Mini 9 Fujifilm Colores + 20 Fotos', 'Camara :Camara Impresion Fotos Instantanea Fujifilm Mini 9 Original', 'Camara :Fujifilm Instax Mini 11 Nuevas Entrega Inmediata', 'Camara :Set 20 Películas + Cámara Instantánea Fujifilm Instax Mini 9', 'Camara :Camara Fuji Intax Mini 9 Kit Nueva ', 'Camara :Polaroid 2x3 Zink. 50 Hojas. Entrega Inmediata.', 'Camara :Combo Cámara Instantánea Instax Mini 9 Con 20 Películas Foto', 'Camara :Camara Polaroid One Step Closeup', 'Camara :Fujifilm Instax Mini 11 + Caja 60 Fotos Entrega Inmediata', 'Camara :I-1 Impossible Cámara Instantánea Polaroid ', 'Camara :Kit 20 Películas + Cámara Instantánea Fujifilm Instax Mini 9', 'Camara :Camara Instantanea Fujifilm Instax Mini8 + Estuche, Poco Uso', 'Camara :20 Películas + Cámara Instantánea Fujifilm Instax Mini 9', 'Camara :Estuche Rígido Cámara Instantánea Fujifilm Instax Square Sq6', 'Camara :Cámara Instantánea Polaroid Izone ', 'Camara :Camaras Instantanea Fotografica Fujifilm Instax Mini 9', 'Camara :Cámara Instantánea Fujifilm Instax 200', 'Camara :Cámara Instantánea LG Pocket Pc389 Rosa Nuevo Original 100%', 'Camara :Camara Fujifim Instax Mini 70', \"Camara :Cámara Instantanea Lomo'instant Automat Cabo Verde\", 'Camara :Cámara Instantánea Fujifilm Instax Mini 9 Azul Cielo', 'Camara :Cámara Instantánea Polaroid Onestep Express', 'Camara :Kit  Cámara Instax Mini 9 Amarillo Clear', 'Camara :Camara Instantánea Fujifilm Instax Mini 50s', 'Camara :Cámara Instax Mini 9 Edición Frozen Ii', 'Camara :Cámara Instantánea Fujifilm Instax Mini 9 Rosada Flamingo', 'Camara :Cámara Instax Square Sq6 Aqua Blue', 'Camara :Papel Polaroid Zink Pop (40 Hojas)', 'Camara :Camara Instantánea Instax Mini 9 Amarilla Fujifilm', 'Camara :Camara Instantánea Polaroid ', 'Camara :Camara Fujifilm Instax Mini 9', 'Camara :Cámara Instantánea Fujifilm Instax Mini 9', 'Camara :Cámara Instantánea Kodak Ek6', 'Camara :Cámara Instantánea Polaroid Joycam', 'Camara :Cámara Instantánea Fujifilm Instax Mini 9 Blanco', 'Camara :Camara Impresion Fotos Instantanea Fujifilm Mini 9 Original', 'Camara :Camara  Mini Instantanea', 'Camara :Cámara Instantánea Kodak Pleaser, No Funciona', 'Camara :Cámara Instantánea Polaroid Joycam', 'Camara :Cámara 100% Original Instax Mini 8 (descontinuada) ', 'Camara :Camara Fujifilm', 'Camara :Cámara Instantánea Polaroid One 600', 'Camara :Excelente Cámara Fotográfica ', 'Camara :Cámara Instantánea Polaroid 600', 'Camara :Cámara Instantánea Fujifilm Instax Mini 9 Verde']\n"
          ],
          "name": "stdout"
        }
      ]
    },
    {
      "cell_type": "code",
      "metadata": {
        "id": "8pC1ncYmDZyT",
        "colab_type": "code",
        "colab": {
          "base_uri": "https://localhost:8080/",
          "height": 71
        },
        "outputId": "71ae304e-a825-4ceb-bed5-6e87ce6896a4"
      },
      "source": [
        "from functools import reduce\n",
        "lista = titulos\n",
        "largo = lambda elemento : len(elemento)\n",
        "lista_largos = list(map(largo,lista))\n",
        "print (lista_largos)\n",
        "sumador = lambda elemento=0,acumulador=0:acumulador+elemento\n",
        "promedio = reduce (sumador,lista_largos)/len(titulos)\n",
        "print (promedio)"
      ],
      "execution_count": 164,
      "outputs": [
        {
          "output_type": "stream",
          "text": [
            "[61, 61, 49, 52, 49, 61, 67, 56, 68, 43, 55, 68, 40, 65, 51, 68, 68, 64, 68, 42, 62, 46, 67, 37, 58, 60, 51, 48, 51, 46, 65, 42, 42, 58, 36, 37, 49, 36, 42, 56, 67, 32, 53, 42, 59, 23, 43, 37, 39, 55]\n",
            "51.9\n"
          ],
          "name": "stdout"
        }
      ]
    },
    {
      "cell_type": "code",
      "metadata": {
        "id": "mCZ5_3Xvw7ba",
        "colab_type": "code",
        "colab": {
          "base_uri": "https://localhost:8080/",
          "height": 1000
        },
        "outputId": "20b05df1-0309-47c6-9a3f-911651ac26b1"
      },
      "source": [
        "camara_data_frame"
      ],
      "execution_count": 165,
      "outputs": [
        {
          "output_type": "execute_result",
          "data": {
            "text/html": [
              "<div>\n",
              "<style scoped>\n",
              "    .dataframe tbody tr th:only-of-type {\n",
              "        vertical-align: middle;\n",
              "    }\n",
              "\n",
              "    .dataframe tbody tr th {\n",
              "        vertical-align: top;\n",
              "    }\n",
              "\n",
              "    .dataframe thead th {\n",
              "        text-align: right;\n",
              "    }\n",
              "</style>\n",
              "<table border=\"1\" class=\"dataframe\">\n",
              "  <thead>\n",
              "    <tr style=\"text-align: right;\">\n",
              "      <th></th>\n",
              "      <th>titulo</th>\n",
              "      <th>precio</th>\n",
              "    </tr>\n",
              "  </thead>\n",
              "  <tbody>\n",
              "    <tr>\n",
              "      <th>0</th>\n",
              "      <td>Cámara Fuji Instax Mini Instantánea Fujifilm O...</td>\n",
              "      <td>324.900</td>\n",
              "    </tr>\n",
              "    <tr>\n",
              "      <th>1</th>\n",
              "      <td>Cámara Instantánea Fujifilm Instax Mini 9+ 20 ...</td>\n",
              "      <td>9.025</td>\n",
              "    </tr>\n",
              "    <tr>\n",
              "      <th>2</th>\n",
              "      <td>Cámara Instantánea Fujifilm Instax Mini 9</td>\n",
              "      <td>349.900</td>\n",
              "    </tr>\n",
              "    <tr>\n",
              "      <th>3</th>\n",
              "      <td>Cámara Fuji Instax Mini Instantánea Fujifilm</td>\n",
              "      <td>9.719</td>\n",
              "    </tr>\n",
              "    <tr>\n",
              "      <th>4</th>\n",
              "      <td>Cámara Instantánea Fujifilm Instax Mini 9</td>\n",
              "      <td>259.000</td>\n",
              "    </tr>\n",
              "    <tr>\n",
              "      <th>5</th>\n",
              "      <td>Cámara Fuji Instax Mini 9 Fujifilm Colores + 2...</td>\n",
              "      <td>7.194</td>\n",
              "    </tr>\n",
              "    <tr>\n",
              "      <th>6</th>\n",
              "      <td>Camara Impresion Fotos Instantanea Fujifilm Mi...</td>\n",
              "      <td>319.000</td>\n",
              "    </tr>\n",
              "    <tr>\n",
              "      <th>7</th>\n",
              "      <td>Fujifilm Instax Mini 11 Nuevas Entrega Inmediata</td>\n",
              "      <td>8.861</td>\n",
              "    </tr>\n",
              "    <tr>\n",
              "      <th>8</th>\n",
              "      <td>Set 20 Películas + Cámara Instantánea Fujifilm...</td>\n",
              "      <td>269.000</td>\n",
              "    </tr>\n",
              "    <tr>\n",
              "      <th>9</th>\n",
              "      <td>Camara Fuji Intax Mini 9 Kit Nueva</td>\n",
              "      <td>7.472</td>\n",
              "    </tr>\n",
              "    <tr>\n",
              "      <th>10</th>\n",
              "      <td>Polaroid 2x3 Zink. 50 Hojas. Entrega Inmediata.</td>\n",
              "      <td>395.000</td>\n",
              "    </tr>\n",
              "    <tr>\n",
              "      <th>11</th>\n",
              "      <td>Combo Cámara Instantánea Instax Mini 9 Con 20 ...</td>\n",
              "      <td>10.972</td>\n",
              "    </tr>\n",
              "    <tr>\n",
              "      <th>12</th>\n",
              "      <td>Camara Polaroid One Step Closeup</td>\n",
              "      <td>415.900</td>\n",
              "    </tr>\n",
              "    <tr>\n",
              "      <th>13</th>\n",
              "      <td>Fujifilm Instax Mini 11 + Caja 60 Fotos Entreg...</td>\n",
              "      <td>34.658</td>\n",
              "    </tr>\n",
              "    <tr>\n",
              "      <th>14</th>\n",
              "      <td>I-1 Impossible Cámara Instantánea Polaroid</td>\n",
              "      <td>297.000</td>\n",
              "    </tr>\n",
              "    <tr>\n",
              "      <th>15</th>\n",
              "      <td>Kit 20 Películas + Cámara Instantánea Fujifilm...</td>\n",
              "      <td>8.250</td>\n",
              "    </tr>\n",
              "    <tr>\n",
              "      <th>16</th>\n",
              "      <td>Camara Instantanea Fujifilm Instax Mini8 + Est...</td>\n",
              "      <td>413.885</td>\n",
              "    </tr>\n",
              "    <tr>\n",
              "      <th>17</th>\n",
              "      <td>20 Películas + Cámara Instantánea Fujifilm Ins...</td>\n",
              "      <td>11.497</td>\n",
              "    </tr>\n",
              "    <tr>\n",
              "      <th>18</th>\n",
              "      <td>Estuche Rígido Cámara Instantánea Fujifilm Ins...</td>\n",
              "      <td>489.000</td>\n",
              "    </tr>\n",
              "    <tr>\n",
              "      <th>19</th>\n",
              "      <td>Cámara Instantánea Polaroid Izone</td>\n",
              "      <td>40.750</td>\n",
              "    </tr>\n",
              "    <tr>\n",
              "      <th>20</th>\n",
              "      <td>Camaras Instantanea Fotografica Fujifilm Insta...</td>\n",
              "      <td>160.000</td>\n",
              "    </tr>\n",
              "    <tr>\n",
              "      <th>21</th>\n",
              "      <td>Cámara Instantánea Fujifilm Instax 200</td>\n",
              "      <td>13.333</td>\n",
              "    </tr>\n",
              "    <tr>\n",
              "      <th>22</th>\n",
              "      <td>Cámara Instantánea LG Pocket Pc389 Rosa Nuevo ...</td>\n",
              "      <td>413.885</td>\n",
              "    </tr>\n",
              "    <tr>\n",
              "      <th>23</th>\n",
              "      <td>Camara Fujifim Instax Mini 70</td>\n",
              "      <td>11.497</td>\n",
              "    </tr>\n",
              "    <tr>\n",
              "      <th>24</th>\n",
              "      <td>Cámara Instantanea Lomo'instant Automat Cabo V...</td>\n",
              "      <td>150.000</td>\n",
              "    </tr>\n",
              "    <tr>\n",
              "      <th>25</th>\n",
              "      <td>Cámara Instantánea Fujifilm Instax Mini 9 Azul...</td>\n",
              "      <td>4.167</td>\n",
              "    </tr>\n",
              "    <tr>\n",
              "      <th>26</th>\n",
              "      <td>Cámara Instantánea Polaroid Onestep Express</td>\n",
              "      <td>469.900</td>\n",
              "    </tr>\n",
              "    <tr>\n",
              "      <th>27</th>\n",
              "      <td>Kit  Cámara Instax Mini 9 Amarillo Clear</td>\n",
              "      <td>13.053</td>\n",
              "    </tr>\n",
              "    <tr>\n",
              "      <th>28</th>\n",
              "      <td>Camara Instantánea Fujifilm Instax Mini 50s</td>\n",
              "      <td>400.000</td>\n",
              "    </tr>\n",
              "    <tr>\n",
              "      <th>29</th>\n",
              "      <td>Cámara Instax Mini 9 Edición Frozen Ii</td>\n",
              "      <td>11.111</td>\n",
              "    </tr>\n",
              "    <tr>\n",
              "      <th>30</th>\n",
              "      <td>Cámara Instantánea Fujifilm Instax Mini 9 Rosa...</td>\n",
              "      <td>413.885</td>\n",
              "    </tr>\n",
              "    <tr>\n",
              "      <th>31</th>\n",
              "      <td>Cámara Instax Square Sq6 Aqua Blue</td>\n",
              "      <td>11.497</td>\n",
              "    </tr>\n",
              "    <tr>\n",
              "      <th>32</th>\n",
              "      <td>Papel Polaroid Zink Pop (40 Hojas)</td>\n",
              "      <td>325.000</td>\n",
              "    </tr>\n",
              "    <tr>\n",
              "      <th>33</th>\n",
              "      <td>Camara Instantánea Instax Mini 9 Amarilla Fuji...</td>\n",
              "      <td>9.028</td>\n",
              "    </tr>\n",
              "    <tr>\n",
              "      <th>34</th>\n",
              "      <td>Camara Instantánea Polaroid</td>\n",
              "      <td>413.885</td>\n",
              "    </tr>\n",
              "    <tr>\n",
              "      <th>35</th>\n",
              "      <td>Camara Fujifilm Instax Mini 9</td>\n",
              "      <td>11.497</td>\n",
              "    </tr>\n",
              "    <tr>\n",
              "      <th>36</th>\n",
              "      <td>Cámara Instantánea Fujifilm Instax Mini 9</td>\n",
              "      <td>138.900</td>\n",
              "    </tr>\n",
              "    <tr>\n",
              "      <th>37</th>\n",
              "      <td>Cámara Instantánea Kodak Ek6</td>\n",
              "      <td>3.858</td>\n",
              "    </tr>\n",
              "    <tr>\n",
              "      <th>38</th>\n",
              "      <td>Cámara Instantánea Polaroid Joycam</td>\n",
              "      <td>30.000</td>\n",
              "    </tr>\n",
              "    <tr>\n",
              "      <th>39</th>\n",
              "      <td>Cámara Instantánea Fujifilm Instax Mini 9 Blanco</td>\n",
              "      <td>2.500</td>\n",
              "    </tr>\n",
              "    <tr>\n",
              "      <th>40</th>\n",
              "      <td>Camara Impresion Fotos Instantanea Fujifilm Mi...</td>\n",
              "      <td>299.900</td>\n",
              "    </tr>\n",
              "    <tr>\n",
              "      <th>41</th>\n",
              "      <td>Camara  Mini Instantanea</td>\n",
              "      <td>24.992</td>\n",
              "    </tr>\n",
              "    <tr>\n",
              "      <th>42</th>\n",
              "      <td>Cámara Instantánea Kodak Pleaser, No Funciona</td>\n",
              "      <td>95.000</td>\n",
              "    </tr>\n",
              "    <tr>\n",
              "      <th>43</th>\n",
              "      <td>Cámara Instantánea Polaroid Joycam</td>\n",
              "      <td>2.639</td>\n",
              "    </tr>\n",
              "    <tr>\n",
              "      <th>44</th>\n",
              "      <td>Cámara 100% Original Instax Mini 8 (descontinu...</td>\n",
              "      <td>650.000</td>\n",
              "    </tr>\n",
              "    <tr>\n",
              "      <th>45</th>\n",
              "      <td>Camara Fujifilm</td>\n",
              "      <td>54.167</td>\n",
              "    </tr>\n",
              "    <tr>\n",
              "      <th>46</th>\n",
              "      <td>Cámara Instantánea Polaroid One 600</td>\n",
              "      <td>319.200</td>\n",
              "    </tr>\n",
              "    <tr>\n",
              "      <th>47</th>\n",
              "      <td>Excelente Cámara Fotográfica</td>\n",
              "      <td>8.867</td>\n",
              "    </tr>\n",
              "    <tr>\n",
              "      <th>48</th>\n",
              "      <td>Cámara Instantánea Polaroid 600</td>\n",
              "      <td>590.000</td>\n",
              "    </tr>\n",
              "    <tr>\n",
              "      <th>49</th>\n",
              "      <td>Cámara Instantánea Fujifilm Instax Mini 9 Verde</td>\n",
              "      <td>49.167</td>\n",
              "    </tr>\n",
              "  </tbody>\n",
              "</table>\n",
              "</div>"
            ],
            "text/plain": [
              "                                               titulo   precio\n",
              "0   Cámara Fuji Instax Mini Instantánea Fujifilm O...  324.900\n",
              "1   Cámara Instantánea Fujifilm Instax Mini 9+ 20 ...    9.025\n",
              "2           Cámara Instantánea Fujifilm Instax Mini 9  349.900\n",
              "3        Cámara Fuji Instax Mini Instantánea Fujifilm    9.719\n",
              "4           Cámara Instantánea Fujifilm Instax Mini 9  259.000\n",
              "5   Cámara Fuji Instax Mini 9 Fujifilm Colores + 2...    7.194\n",
              "6   Camara Impresion Fotos Instantanea Fujifilm Mi...  319.000\n",
              "7    Fujifilm Instax Mini 11 Nuevas Entrega Inmediata    8.861\n",
              "8   Set 20 Películas + Cámara Instantánea Fujifilm...  269.000\n",
              "9                 Camara Fuji Intax Mini 9 Kit Nueva     7.472\n",
              "10    Polaroid 2x3 Zink. 50 Hojas. Entrega Inmediata.  395.000\n",
              "11  Combo Cámara Instantánea Instax Mini 9 Con 20 ...   10.972\n",
              "12                   Camara Polaroid One Step Closeup  415.900\n",
              "13  Fujifilm Instax Mini 11 + Caja 60 Fotos Entreg...   34.658\n",
              "14        I-1 Impossible Cámara Instantánea Polaroid   297.000\n",
              "15  Kit 20 Películas + Cámara Instantánea Fujifilm...    8.250\n",
              "16  Camara Instantanea Fujifilm Instax Mini8 + Est...  413.885\n",
              "17  20 Películas + Cámara Instantánea Fujifilm Ins...   11.497\n",
              "18  Estuche Rígido Cámara Instantánea Fujifilm Ins...  489.000\n",
              "19                 Cámara Instantánea Polaroid Izone    40.750\n",
              "20  Camaras Instantanea Fotografica Fujifilm Insta...  160.000\n",
              "21             Cámara Instantánea Fujifilm Instax 200   13.333\n",
              "22  Cámara Instantánea LG Pocket Pc389 Rosa Nuevo ...  413.885\n",
              "23                      Camara Fujifim Instax Mini 70   11.497\n",
              "24  Cámara Instantanea Lomo'instant Automat Cabo V...  150.000\n",
              "25  Cámara Instantánea Fujifilm Instax Mini 9 Azul...    4.167\n",
              "26        Cámara Instantánea Polaroid Onestep Express  469.900\n",
              "27           Kit  Cámara Instax Mini 9 Amarillo Clear   13.053\n",
              "28        Camara Instantánea Fujifilm Instax Mini 50s  400.000\n",
              "29             Cámara Instax Mini 9 Edición Frozen Ii   11.111\n",
              "30  Cámara Instantánea Fujifilm Instax Mini 9 Rosa...  413.885\n",
              "31                 Cámara Instax Square Sq6 Aqua Blue   11.497\n",
              "32                 Papel Polaroid Zink Pop (40 Hojas)  325.000\n",
              "33  Camara Instantánea Instax Mini 9 Amarilla Fuji...    9.028\n",
              "34                       Camara Instantánea Polaroid   413.885\n",
              "35                      Camara Fujifilm Instax Mini 9   11.497\n",
              "36          Cámara Instantánea Fujifilm Instax Mini 9  138.900\n",
              "37                       Cámara Instantánea Kodak Ek6    3.858\n",
              "38                 Cámara Instantánea Polaroid Joycam   30.000\n",
              "39   Cámara Instantánea Fujifilm Instax Mini 9 Blanco    2.500\n",
              "40  Camara Impresion Fotos Instantanea Fujifilm Mi...  299.900\n",
              "41                           Camara  Mini Instantanea   24.992\n",
              "42      Cámara Instantánea Kodak Pleaser, No Funciona   95.000\n",
              "43                 Cámara Instantánea Polaroid Joycam    2.639\n",
              "44  Cámara 100% Original Instax Mini 8 (descontinu...  650.000\n",
              "45                                    Camara Fujifilm   54.167\n",
              "46                Cámara Instantánea Polaroid One 600  319.200\n",
              "47                      Excelente Cámara Fotográfica     8.867\n",
              "48                    Cámara Instantánea Polaroid 600  590.000\n",
              "49    Cámara Instantánea Fujifilm Instax Mini 9 Verde   49.167"
            ]
          },
          "metadata": {
            "tags": []
          },
          "execution_count": 165
        }
      ]
    }
  ]
}
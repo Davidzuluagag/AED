{
  "nbformat": 4,
  "nbformat_minor": 0,
  "metadata": {
    "colab": {
      "name": "Untitled21.ipynb",
      "provenance": [],
      "authorship_tag": "ABX9TyNTvjWbztjkDJndaMGEm03B",
      "include_colab_link": true
    },
    "kernelspec": {
      "name": "python3",
      "display_name": "Python 3"
    }
  },
  "cells": [
    {
      "cell_type": "markdown",
      "metadata": {
        "id": "view-in-github",
        "colab_type": "text"
      },
      "source": [
        "<a href=\"https://colab.research.google.com/github/Davidzuluagag/AED/blob/master/Quiz3.ipynb\" target=\"_parent\"><img src=\"https://colab.research.google.com/assets/colab-badge.svg\" alt=\"Open In Colab\"/></a>"
      ]
    },
    {
      "cell_type": "code",
      "metadata": {
        "id": "IoN8hegU8Mow",
        "outputId": "a65c5945-ddfc-4564-8c6c-83d2a7156ca6",
        "colab": {
          "base_uri": "https://localhost:8080/",
          "height": 102
        }
      },
      "source": [
        "pip install sklearn"
      ],
      "execution_count": 16,
      "outputs": [
        {
          "output_type": "stream",
          "text": [
            "Requirement already satisfied: sklearn in /usr/local/lib/python3.6/dist-packages (0.0)\n",
            "Requirement already satisfied: scikit-learn in /usr/local/lib/python3.6/dist-packages (from sklearn) (0.22.2.post1)\n",
            "Requirement already satisfied: numpy>=1.11.0 in /usr/local/lib/python3.6/dist-packages (from scikit-learn->sklearn) (1.18.5)\n",
            "Requirement already satisfied: scipy>=0.17.0 in /usr/local/lib/python3.6/dist-packages (from scikit-learn->sklearn) (1.4.1)\n",
            "Requirement already satisfied: joblib>=0.11 in /usr/local/lib/python3.6/dist-packages (from scikit-learn->sklearn) (0.16.0)\n"
          ],
          "name": "stdout"
        }
      ]
    },
    {
      "cell_type": "code",
      "metadata": {
        "id": "LGYz3xSp8P_K"
      },
      "source": [
        "import sklearn\n",
        "from sklearn.datasets import load_iris\n",
        "from sklearn.model_selection import train_test_split\n",
        "iris=load_iris()\n",
        "\n",
        "datosEntrenamiento, datosPrueba, respuestasEntrenamiento, respuestaPrueba=train_test_split (iris['data'],iris['target'])"
      ],
      "execution_count": 22,
      "outputs": []
    },
    {
      "cell_type": "code",
      "metadata": {
        "id": "pfTgfviU8SWF",
        "outputId": "2ad1d90b-9e90-460c-c22f-23b95cd6cc4c",
        "colab": {
          "base_uri": "https://localhost:8080/",
          "height": 34
        }
      },
      "source": [
        "from sklearn.neighbors import KNeighborsClassifier\n",
        "knn4=KNeighborsClassifier(n_neighbors=4)\n",
        "knn4.fit(datosEntrenamiento,respuestasEntrenamiento)\n",
        "\n",
        "KNNscore4=knn4.score(datosPrueba,respuestaPrueba)*100\n",
        "print(\"{}%\".format(KNNscore4))"
      ],
      "execution_count": 23,
      "outputs": [
        {
          "output_type": "stream",
          "text": [
            "97.36842105263158%\n"
          ],
          "name": "stdout"
        }
      ]
    },
    {
      "cell_type": "code",
      "metadata": {
        "id": "o5ROOGWW8SxM",
        "outputId": "f08ec84f-5744-412b-9c70-ba5db8c7ed8e",
        "colab": {
          "base_uri": "https://localhost:8080/",
          "height": 34
        }
      },
      "source": [
        "from sklearn.neighbors import KNeighborsClassifier\n",
        "knn8=KNeighborsClassifier(n_neighbors=8)\n",
        "knn8.fit(datosEntrenamiento,respuestasEntrenamiento)\n",
        "\n",
        "KNNscore8=knn8.score(datosPrueba,respuestaPrueba)*100\n",
        "print(\"{}%\".format(KNNscore8))"
      ],
      "execution_count": 24,
      "outputs": [
        {
          "output_type": "stream",
          "text": [
            "97.36842105263158%\n"
          ],
          "name": "stdout"
        }
      ]
    },
    {
      "cell_type": "code",
      "metadata": {
        "id": "C2AsSu_O8VGU",
        "outputId": "b21b1267-ad4f-4b78-9552-20ec62e957d9",
        "colab": {
          "base_uri": "https://localhost:8080/",
          "height": 34
        }
      },
      "source": [
        "from sklearn.neighbors import KNeighborsClassifier\n",
        "knn12=KNeighborsClassifier(n_neighbors=12)\n",
        "knn12.fit(datosEntrenamiento,respuestasEntrenamiento)\n",
        "\n",
        "KNNscore12=knn12.score(datosPrueba,respuestaPrueba)*100\n",
        "print(\"{}%\".format(KNNscore12))"
      ],
      "execution_count": 25,
      "outputs": [
        {
          "output_type": "stream",
          "text": [
            "94.73684210526315%\n"
          ],
          "name": "stdout"
        }
      ]
    },
    {
      "cell_type": "code",
      "metadata": {
        "id": "G_HPnMdk8YGI",
        "outputId": "867ef95f-742d-4a22-e13c-007d7f7bc0d7",
        "colab": {
          "base_uri": "https://localhost:8080/",
          "height": 34
        }
      },
      "source": [
        "from sklearn.neighbors import KNeighborsClassifier\n",
        "knn16=KNeighborsClassifier(n_neighbors=16)\n",
        "knn16.fit(datosEntrenamiento,respuestasEntrenamiento)\n",
        "\n",
        "KNNscore16=knn16.score(datosPrueba,respuestaPrueba)*100\n",
        "print(\"{}%\".format(KNNscore16))"
      ],
      "execution_count": 26,
      "outputs": [
        {
          "output_type": "stream",
          "text": [
            "92.10526315789474%\n"
          ],
          "name": "stdout"
        }
      ]
    },
    {
      "cell_type": "code",
      "metadata": {
        "id": "OZ8a39JW8axn",
        "outputId": "1f12f3ad-d568-40f4-accd-32b14ab803e2",
        "colab": {
          "base_uri": "https://localhost:8080/",
          "height": 34
        }
      },
      "source": [
        "from sklearn.datasets import load_iris \n",
        "from sklearn.model_selection import train_test_split \n",
        "from sklearn.tree import  DecisionTreeClassifier \n",
        "\n",
        "iris = load_iris()\n",
        "\n",
        "datosEntrenamiento, datosPrueba, respuestasEntrenamiento, respuestasPrueba=train_test_split (iris['data'],iris['target'])\n",
        "\n",
        "decisionTree = DecisionTreeClassifier(max_depth = 3)\n",
        "decisionTree.fit(datosEntrenamiento, respuestasEntrenamiento)\n",
        "DTscore = decisionTree.score(datosPrueba, respuestasPrueba)*100\n",
        "\n",
        "print(\"{}%\".format(DTscore))"
      ],
      "execution_count": 27,
      "outputs": [
        {
          "output_type": "stream",
          "text": [
            "92.10526315789474%\n"
          ],
          "name": "stdout"
        }
      ]
    },
    {
      "cell_type": "code",
      "metadata": {
        "id": "eGm1muNJ8cnu",
        "outputId": "63065fac-07e6-4c66-9e40-37be7e44b964",
        "colab": {
          "base_uri": "https://localhost:8080/",
          "height": 34
        }
      },
      "source": [
        "from sklearn.neural_network import  MLPClassifier\n",
        "\n",
        "maxIterations = 3000\n",
        "hiddenLayers = [25, 28, 30]\n",
        "\n",
        "neuralNetwork = MLPClassifier(max_iter = maxIterations, hidden_layer_sizes = hiddenLayers)\n",
        "neuralNetwork.fit(datosEntrenamiento, respuestasEntrenamiento)\n",
        "NNscore = neuralNetwork.score(datosPrueba, respuestasPrueba)*100\n",
        "\n",
        "print(\"{}%\".format(NNscore))"
      ],
      "execution_count": 28,
      "outputs": [
        {
          "output_type": "stream",
          "text": [
            "97.36842105263158%\n"
          ],
          "name": "stdout"
        }
      ]
    },
    {
      "cell_type": "code",
      "metadata": {
        "id": "sN3Weom58ent",
        "outputId": "468f4f06-3dcc-450c-a1de-837e8304c84c",
        "colab": {
          "base_uri": "https://localhost:8080/",
          "height": 298
        }
      },
      "source": [
        "import matplotlib.pyplot as plt\n",
        "plt.bar (['Knn', 'Arbol', 'Red neural'], [KNNscore16, DTscore, NNscore])\n",
        "plt.title(\"Comparación clasificadores\")\n",
        "plt.ylabel (\"%\")\n",
        "plt. show()\n",
        "plt.savefig(\"Grafico.png\")"
      ],
      "execution_count": 29,
      "outputs": [
        {
          "output_type": "display_data",
          "data": {
            "image/png": "[encoded data removed]",
            "text/plain": [
              "<Figure size 432x288 with 1 Axes>"
            ]
          },
          "metadata": {
            "tags": [],
            "needs_background": "light"
          }
        },
        {
          "output_type": "display_data",
          "data": {
            "text/plain": [
              "<Figure size 432x288 with 0 Axes>"
            ]
          },
          "metadata": {
            "tags": []
          }
        }
      ]
    }
  ]
}
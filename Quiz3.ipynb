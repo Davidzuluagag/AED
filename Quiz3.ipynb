{
  "nbformat": 4,
  "nbformat_minor": 0,
  "metadata": {
    "colab": {
      "name": "Untitled",
      "provenance": [],
      "collapsed_sections": [],
      "authorship_tag": "ABX9TyNTvjWbztjkDJndaMGEm03B",
      "include_colab_link": true
    },
    "kernelspec": {
      "name": "python3",
      "display_name": "Python 3"
    }
  },
  "cells": [
    {
      "cell_type": "markdown",
      "metadata": {
        "id": "view-in-github",
        "colab_type": "text"
      },
      "source": [
        "<a href=\"https://colab.research.google.com/github/Davidzuluagag/AED/blob/master/Quiz3.ipynb\" target=\"_parent\"><img src=\"https://colab.research.google.com/assets/colab-badge.svg\" alt=\"Open In Colab\"/></a>"
      ]
    },
    {
      "cell_type": "code",
      "metadata": {
        "id": "B0hYlv7t2e3K",
        "outputId": "685b5124-6a03-4f4b-ff45-5a4b9e9885c3",
        "colab": {
          "base_uri": "https://localhost:8080/",
          "height": 102
        }
      },
      "source": [
        "pip install sklearn"
      ],
      "execution_count": 34,
      "outputs": [
        {
          "output_type": "stream",
          "text": [
            "Requirement already satisfied: sklearn in /usr/local/lib/python3.6/dist-packages (0.0)\n",
            "Requirement already satisfied: scikit-learn in /usr/local/lib/python3.6/dist-packages (from sklearn) (0.22.2.post1)\n",
            "Requirement already satisfied: joblib>=0.11 in /usr/local/lib/python3.6/dist-packages (from scikit-learn->sklearn) (0.16.0)\n",
            "Requirement already satisfied: scipy>=0.17.0 in /usr/local/lib/python3.6/dist-packages (from scikit-learn->sklearn) (1.4.1)\n",
            "Requirement already satisfied: numpy>=1.11.0 in /usr/local/lib/python3.6/dist-packages (from scikit-learn->sklearn) (1.18.5)\n"
          ],
          "name": "stdout"
        }
      ]
    },
    {
      "cell_type": "code",
      "metadata": {
        "id": "1AGLBz6S2vHK"
      },
      "source": [
        "import sklearn\n",
        "from sklearn.datasets import load_iris\n",
        "from sklearn.model_selection import train_test_split\n",
        "iris=load_iris()\n",
        "\n",
        "datosEntrenamiento, datosPrueba, respuestasEntrenamiento, respuestaPrueba=train_test_split (iris['data'],iris['target'])"
      ],
      "execution_count": 35,
      "outputs": []
    },
    {
      "cell_type": "code",
      "metadata": {
        "id": "pOmB0LGb2xNe",
        "outputId": "855c15a2-3152-4911-e013-c176aa0d14ec",
        "colab": {
          "base_uri": "https://localhost:8080/",
          "height": 34
        }
      },
      "source": [
        "from sklearn.neighbors import KNeighborsClassifier\n",
        "knn4=KNeighborsClassifier(n_neighbors=4)\n",
        "knn4.fit(datosEntrenamiento,respuestasEntrenamiento)\n",
        "\n",
        "KNNscore4=knn4.score(datosPrueba,respuestaPrueba)*100\n",
        "print(\"{}%\".format(KNNscore4))"
      ],
      "execution_count": 36,
      "outputs": [
        {
          "output_type": "stream",
          "text": [
            "94.73684210526315%\n"
          ],
          "name": "stdout"
        }
      ]
    },
    {
      "cell_type": "code",
      "metadata": {
        "id": "Er_RekW320l6",
        "outputId": "eacc31c2-8191-4f8a-971b-c5dab130b900",
        "colab": {
          "base_uri": "https://localhost:8080/",
          "height": 34
        }
      },
      "source": [
        "from sklearn.neighbors import KNeighborsClassifier\n",
        "knn8=KNeighborsClassifier(n_neighbors=8)\n",
        "knn8.fit(datosEntrenamiento,respuestasEntrenamiento)\n",
        "\n",
        "KNNscore8=knn8.score(datosPrueba,respuestaPrueba)*100\n",
        "print(\"{}%\".format(KNNscore8))"
      ],
      "execution_count": 37,
      "outputs": [
        {
          "output_type": "stream",
          "text": [
            "92.10526315789474%\n"
          ],
          "name": "stdout"
        }
      ]
    },
    {
      "cell_type": "code",
      "metadata": {
        "id": "bgqIEE9P23t7",
        "outputId": "b6a92acc-54a1-4c67-d0de-2cfc2fdb6078",
        "colab": {
          "base_uri": "https://localhost:8080/",
          "height": 34
        }
      },
      "source": [
        "from sklearn.neighbors import KNeighborsClassifier\n",
        "knn12=KNeighborsClassifier(n_neighbors=12)\n",
        "knn12.fit(datosEntrenamiento,respuestasEntrenamiento)\n",
        "\n",
        "KNNscore12=knn12.score(datosPrueba,respuestaPrueba)*100\n",
        "print(\"{}%\".format(KNNscore12))"
      ],
      "execution_count": 38,
      "outputs": [
        {
          "output_type": "stream",
          "text": [
            "94.73684210526315%\n"
          ],
          "name": "stdout"
        }
      ]
    },
    {
      "cell_type": "code",
      "metadata": {
        "id": "h_foEOS226_u",
        "outputId": "ace4609e-e809-43bd-b320-064aeb974037",
        "colab": {
          "base_uri": "https://localhost:8080/",
          "height": 34
        }
      },
      "source": [
        "from sklearn.neighbors import KNeighborsClassifier\n",
        "knn16=KNeighborsClassifier(n_neighbors=16)\n",
        "knn16.fit(datosEntrenamiento,respuestasEntrenamiento)\n",
        "\n",
        "KNNscore16=knn16.score(datosPrueba,respuestaPrueba)*100\n",
        "print(\"{}%\".format(KNNscore16))"
      ],
      "execution_count": 39,
      "outputs": [
        {
          "output_type": "stream",
          "text": [
            "86.8421052631579%\n"
          ],
          "name": "stdout"
        }
      ]
    },
    {
      "cell_type": "code",
      "metadata": {
        "id": "TTSJ8y8v2_K-",
        "outputId": "55ff89ff-54a4-4aca-ad73-7b4498b64dcb",
        "colab": {
          "base_uri": "https://localhost:8080/",
          "height": 34
        }
      },
      "source": [
        "from sklearn.datasets import load_iris \n",
        "from sklearn.model_selection import train_test_split \n",
        "from sklearn.tree import  DecisionTreeClassifier \n",
        "\n",
        "iris = load_iris()\n",
        "\n",
        "datosEntrenamiento, datosPrueba, respuestasEntrenamiento, respuestasPrueba=train_test_split (iris['data'],iris['target'])\n",
        "\n",
        "decisionTree = DecisionTreeClassifier(max_depth = 3)\n",
        "decisionTree.fit(datosEntrenamiento, respuestasEntrenamiento)\n",
        "DTscore = decisionTree.score(datosPrueba, respuestasPrueba)*100\n",
        "\n",
        "print(\"{}%\".format(DTscore))"
      ],
      "execution_count": 40,
      "outputs": [
        {
          "output_type": "stream",
          "text": [
            "97.36842105263158%\n"
          ],
          "name": "stdout"
        }
      ]
    },
    {
      "cell_type": "code",
      "metadata": {
        "id": "MG6YmxRJ3Bgl",
        "outputId": "0fc90b9e-103e-452a-aa38-8b393c2c5b00",
        "colab": {
          "base_uri": "https://localhost:8080/",
          "height": 34
        }
      },
      "source": [
        "from sklearn.neural_network import  MLPClassifier\n",
        "\n",
        "maxIterations = 3000\n",
        "hiddenLayers = [25, 28, 30]\n",
        "\n",
        "neuralNetwork = MLPClassifier(max_iter = maxIterations, hidden_layer_sizes = hiddenLayers)\n",
        "neuralNetwork.fit(datosEntrenamiento, respuestasEntrenamiento)\n",
        "NNscore = neuralNetwork.score(datosPrueba, respuestasPrueba)*100\n",
        "\n",
        "print(\"{}%\".format(NNscore))"
      ],
      "execution_count": 41,
      "outputs": [
        {
          "output_type": "stream",
          "text": [
            "97.36842105263158%\n"
          ],
          "name": "stdout"
        }
      ]
    },
    {
      "cell_type": "code",
      "metadata": {
        "id": "9FbPqVxP3JwO",
        "outputId": "a0bb11e0-8bf5-4a68-e4d7-9fc33f399523",
        "colab": {
          "base_uri": "https://localhost:8080/",
          "height": 298
        }
      },
      "source": [
        "import matplotlib.pyplot as plt\n",
        "plt.bar (['Knn', 'Arbol', 'Red neural'], [KNNscore16, DTscore, NNscore])\n",
        "plt.title(\"Comparación clasificadores\")\n",
        "plt.ylabel (\"%\")\n",
        "plt. show()\n",
        "plt.savefig(\"Grafico.png\")"
      ],
      "execution_count": 42,
      "outputs": [
        {
          "output_type": "display_data",
          "data": {
            "image/png": "[encoded data removed]",
            "text/plain": [
              "<Figure size 432x288 with 1 Axes>"
            ]
          },
          "metadata": {
            "tags": [],
            "needs_background": "light"
          }
        },
        {
          "output_type": "display_data",
          "data": {
            "text/plain": [
              "<Figure size 432x288 with 0 Axes>"
            ]
          },
          "metadata": {
            "tags": []
          }
        }
      ]
    }
  ]
}